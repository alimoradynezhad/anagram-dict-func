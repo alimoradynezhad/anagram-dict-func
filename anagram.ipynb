{
 "cells": [
  {
   "cell_type": "code",
   "execution_count": 1,
   "id": "3a31a520",
   "metadata": {},
   "outputs": [
    {
     "name": "stdout",
     "output_type": "stream",
     "text": [
      "ali\n"
     ]
    }
   ],
   "source": [
    "print(\"ali\")"
   ]
  },
  {
   "cell_type": "code",
   "execution_count": null,
   "id": "b392f415",
   "metadata": {},
   "outputs": [],
   "source": []
  },
  {
   "cell_type": "code",
   "execution_count": 2,
   "id": "530cca97",
   "metadata": {},
   "outputs": [
    {
     "name": "stdout",
     "output_type": "stream",
     "text": [
      "60\n"
     ]
    }
   ],
   "source": [
    "a =56\n",
    "b =4\n",
    "c =a+b\n",
    "print(c)"
   ]
  },
  {
   "cell_type": "code",
   "execution_count": null,
   "id": "9f4f3a57",
   "metadata": {},
   "outputs": [],
   "source": []
  },
  {
   "cell_type": "code",
   "execution_count": 3,
   "id": "9f1023f4",
   "metadata": {},
   "outputs": [
    {
     "name": "stdout",
     "output_type": "stream",
     "text": [
      "hello word\n"
     ]
    }
   ],
   "source": [
    "print('hello word')"
   ]
  },
  {
   "cell_type": "code",
   "execution_count": 4,
   "id": "109348dc",
   "metadata": {},
   "outputs": [
    {
     "name": "stdout",
     "output_type": "stream",
     "text": [
      "10 20\n",
      "20 10\n"
     ]
    }
   ],
   "source": [
    "a =10\n",
    "b =20\n",
    "print(a, b)\n",
    "c = a\n",
    "a = b\n",
    "b = c\n",
    "print(a, b)\n"
   ]
  },
  {
   "cell_type": "code",
   "execution_count": 5,
   "id": "edc5a8c9",
   "metadata": {},
   "outputs": [
    {
     "ename": "NameError",
     "evalue": "name 'a' is not defined",
     "output_type": "error",
     "traceback": [
      "\u001b[1;31m---------------------------------------------------------------------------\u001b[0m",
      "\u001b[1;31mNameError\u001b[0m                                 Traceback (most recent call last)",
      "\u001b[1;32m~\\AppData\\Local\\Temp/ipykernel_8804/2105755007.py\u001b[0m in \u001b[0;36m<module>\u001b[1;34m\u001b[0m\n\u001b[0;32m      1\u001b[0m \u001b[1;32mdel\u001b[0m \u001b[0ma\u001b[0m\u001b[1;33m\u001b[0m\u001b[1;33m\u001b[0m\u001b[0m\n\u001b[1;32m----> 2\u001b[1;33m \u001b[0mprint\u001b[0m\u001b[1;33m(\u001b[0m\u001b[0ma\u001b[0m\u001b[1;33m)\u001b[0m\u001b[1;33m\u001b[0m\u001b[1;33m\u001b[0m\u001b[0m\n\u001b[0m",
      "\u001b[1;31mNameError\u001b[0m: name 'a' is not defined"
     ]
    }
   ],
   "source": [
    " del a\n",
    "print(a)"
   ]
  },
  {
   "cell_type": "code",
   "execution_count": 11,
   "id": "c3cfd574",
   "metadata": {},
   "outputs": [
    {
     "name": "stdout",
     "output_type": "stream",
     "text": [
      "hello world  python\n"
     ]
    },
    {
     "ename": "NameError",
     "evalue": "name 'lrn' is not defined",
     "output_type": "error",
     "traceback": [
      "\u001b[1;31m---------------------------------------------------------------------------\u001b[0m",
      "\u001b[1;31mNameError\u001b[0m                                 Traceback (most recent call last)",
      "\u001b[1;32m~\\AppData\\Local\\Temp/ipykernel_8804/919442605.py\u001b[0m in \u001b[0;36m<module>\u001b[1;34m\u001b[0m\n\u001b[0;32m      1\u001b[0m \u001b[0mvar\u001b[0m \u001b[1;33m=\u001b[0m \u001b[1;34m'hello world'\u001b[0m\u001b[1;33m\u001b[0m\u001b[1;33m\u001b[0m\u001b[0m\n\u001b[0;32m      2\u001b[0m \u001b[0mprint\u001b[0m\u001b[1;33m(\u001b[0m\u001b[0mvar\u001b[0m \u001b[1;33m+\u001b[0m\u001b[1;34m\"  \"\u001b[0m \u001b[1;33m+\u001b[0m \u001b[1;34m\"python\"\u001b[0m\u001b[1;33m)\u001b[0m\u001b[1;33m\u001b[0m\u001b[1;33m\u001b[0m\u001b[0m\n\u001b[1;32m----> 3\u001b[1;33m \u001b[0mprint\u001b[0m\u001b[1;33m(\u001b[0m\u001b[0mlrn\u001b[0m\u001b[1;33m(\u001b[0m\u001b[0mvar\u001b[0m\u001b[1;33m)\u001b[0m\u001b[1;33m)\u001b[0m\u001b[1;33m\u001b[0m\u001b[1;33m\u001b[0m\u001b[0m\n\u001b[0m",
      "\u001b[1;31mNameError\u001b[0m: name 'lrn' is not defined"
     ]
    }
   ],
   "source": [
    "var = 'hello world'\n",
    "print(var +\"  \" + \"python\")\n",
    "print(lrn(var))"
   ]
  },
  {
   "cell_type": "code",
   "execution_count": 12,
   "id": "ebc32d9f",
   "metadata": {},
   "outputs": [
    {
     "name": "stdout",
     "output_type": "stream",
     "text": [
      "11\n"
     ]
    }
   ],
   "source": [
    "print(len(var))"
   ]
  },
  {
   "cell_type": "code",
   "execution_count": null,
   "id": "2368802a",
   "metadata": {},
   "outputs": [],
   "source": [
    "ali = 'ali'\n",
    "print(ali)"
   ]
  },
  {
   "cell_type": "code",
   "execution_count": 1,
   "id": "35896919",
   "metadata": {},
   "outputs": [
    {
     "name": "stdout",
     "output_type": "stream",
     "text": [
      "12\n"
     ]
    }
   ],
   "source": [
    "a = 12\n",
    "print(a)"
   ]
  },
  {
   "cell_type": "code",
   "execution_count": 1,
   "id": "23f0893e",
   "metadata": {},
   "outputs": [
    {
     "name": "stdout",
     "output_type": "stream",
     "text": [
      "A\n",
      "\n"
     ]
    }
   ],
   "source": [
    "with open(\"tst.txt\") as f:\n",
    "    deta = f.readline()\n",
    "    print(deta)\n",
    "    "
   ]
  },
  {
   "cell_type": "code",
   "execution_count": 10,
   "id": "47919ccd",
   "metadata": {},
   "outputs": [
    {
     "name": "stdout",
     "output_type": "stream",
     "text": [
      "A\n",
      "\n"
     ]
    }
   ],
   "source": [
    "with open(\"tst.txt\") as file:\n",
    "    deta = file.readlines()\n",
    "    print(deta[0])"
   ]
  },
  {
   "cell_type": "code",
   "execution_count": 13,
   "id": "a6e3e3d4",
   "metadata": {},
   "outputs": [
    {
     "name": "stdout",
     "output_type": "stream",
     "text": [
      "['A\\n', 'AA\\n', 'AAA\\n', 'AAAA\\n', 'AAAAA\\n', 'AAAAAA\\n', 'AAAAAAA']\n",
      "----------\n",
      "['A\\n', 'AA\\n', 'AAA\\n', 'AAAA\\n', 'AAAAA\\n', 'AAAAAA\\n', 'AAAAAAA']\n"
     ]
    }
   ],
   "source": [
    "with open(\"tst.txt\") as file:\n",
    "    deta = file.readlines()\n",
    "    print(deta)\n",
    "\n",
    "print(\"----------\")\n",
    "print(deta)"
   ]
  },
  {
   "cell_type": "code",
   "execution_count": 14,
   "id": "69aeaefc",
   "metadata": {},
   "outputs": [
    {
     "name": "stdout",
     "output_type": "stream",
     "text": [
      "A\n",
      "AA\n",
      "AAA\n",
      "AAAA\n",
      "AAAAA\n",
      "AAAAAA\n",
      "AAAAAAA\n",
      "----------\n",
      "A\n",
      "AA\n",
      "AAA\n",
      "AAAA\n",
      "AAAAA\n",
      "AAAAAA\n",
      "AAAAAAA\n"
     ]
    }
   ],
   "source": [
    "with open(\"tst.txt\") as file:\n",
    "    deta = file.read()\n",
    "    print(deta)\n",
    "\n",
    "print(\"----------\")\n",
    "print(deta)"
   ]
  },
  {
   "cell_type": "code",
   "execution_count": 23,
   "id": "34655579",
   "metadata": {},
   "outputs": [],
   "source": [
    "\n",
    "\n",
    "\n",
    "with open(\"tst.txt\", mode=\"w\") as file:\n",
    "    deta = file.write(\"123456789\")\n"
   ]
  },
  {
   "cell_type": "code",
   "execution_count": 30,
   "id": "6da2a910",
   "metadata": {},
   "outputs": [],
   "source": [
    "with open(\"tst.txt\", mode=\"r\") as file:\n",
    "    deta = file.readlines()\n",
    "    \n",
    "    if deta == \"A\":\n",
    "        deta.lower()\n",
    "        print(deta)\n",
    "        \n",
    "        print(deta)\n",
    "\n",
    "\n",
    "\n",
    "\n",
    "\n",
    "with open(\"tst.txt\", mode=\"w\") as file:\n",
    "    file.write(\"deta_replace\")"
   ]
  },
  {
   "cell_type": "code",
   "execution_count": 29,
   "id": "7c881b8d",
   "metadata": {},
   "outputs": [],
   "source": [
    "with open(\"tst.txt\", mode=\"r\") as file:\n",
    "    deta = file.read()\n",
    "    \n",
    "    if deta == \"A\":\n",
    "        deta.lower()\n",
    "        print(deta)\n",
    "        \n",
    "       "
   ]
  },
  {
   "cell_type": "code",
   "execution_count": 32,
   "id": "91118903",
   "metadata": {},
   "outputs": [
    {
     "name": "stdout",
     "output_type": "stream",
     "text": [
      "['a\\n', 'aa\\n', 'aaa\\n', 'aaaa\\n', 'aaaaa\\n', 'aaaaaa\\n', 'aaaaaaa']\n",
      "----------\n",
      "['a\\n', 'aa\\n', 'aaa\\n', 'aaaa\\n', 'aaaaa\\n', 'aaaaaa\\n', 'aaaaaaa']\n"
     ]
    }
   ],
   "source": [
    "with open(\"tst.txt\") as file:\n",
    "    deta = file.readlines()\n",
    "    print(deta)\n",
    "\n",
    "print(\"----------\")\n",
    "print(deta)"
   ]
  },
  {
   "cell_type": "code",
   "execution_count": 56,
   "id": "3924d3dc",
   "metadata": {},
   "outputs": [
    {
     "name": "stdout",
     "output_type": "stream",
     "text": [
      "A\n",
      "AA\n",
      "AAA\n",
      "AAAA\n",
      "AAAAA\n",
      "AAAAAA\n",
      "AAAAAAA\n",
      "A\n"
     ]
    }
   ],
   "source": [
    "\n",
    "\n",
    "with open(\"tst.txt\", mode=\"r\") as file:\n",
    "    line = file.read()\n",
    "    print(line)\n",
    "    \n",
    "word = line[2]\n",
    "print(word)\n"
   ]
  },
  {
   "cell_type": "code",
   "execution_count": 58,
   "id": "eeb00546",
   "metadata": {},
   "outputs": [
    {
     "name": "stdout",
     "output_type": "stream",
     "text": [
      "A\n",
      "AA\n",
      "AAA\n",
      "AAAA\n",
      "AAAAA\n",
      "AAAAAA\n",
      "AAAAAAA\n"
     ]
    }
   ],
   "source": [
    "\n",
    "with open(\"tst.txt\", mode=\"r\") as file:\n",
    "    line = file.read()\n",
    "    print(line)\n",
    "    \n"
   ]
  },
  {
   "cell_type": "code",
   "execution_count": 59,
   "id": "8e4f5844",
   "metadata": {},
   "outputs": [
    {
     "data": {
      "text/plain": [
       "['e', 'i', 'l', 's', 'v']"
      ]
     },
     "execution_count": 59,
     "metadata": {},
     "output_type": "execute_result"
    }
   ],
   "source": [
    "a, b = 'lives', 'elvis'\n",
    "sorted(a)"
   ]
  },
  {
   "cell_type": "code",
   "execution_count": 60,
   "id": "aef6cb50",
   "metadata": {},
   "outputs": [
    {
     "data": {
      "text/plain": [
       "['e', 'i', 'l', 's', 'v']"
      ]
     },
     "execution_count": 60,
     "metadata": {},
     "output_type": "execute_result"
    }
   ],
   "source": [
    "sorted(b)"
   ]
  },
  {
   "cell_type": "code",
   "execution_count": 61,
   "id": "2b781b77",
   "metadata": {},
   "outputs": [
    {
     "data": {
      "text/plain": [
       "'e|l|v|i|s'"
      ]
     },
     "execution_count": 61,
     "metadata": {},
     "output_type": "execute_result"
    }
   ],
   "source": [
    "'|'.join(b)"
   ]
  },
  {
   "cell_type": "code",
   "execution_count": 62,
   "id": "9ba0f686",
   "metadata": {},
   "outputs": [],
   "source": [
    "def signiture(word):\n",
    "    return ''.join(sorted(word))\n"
   ]
  },
  {
   "cell_type": "code",
   "execution_count": 63,
   "id": "58ea2f78",
   "metadata": {},
   "outputs": [
    {
     "data": {
      "text/plain": [
       "'elov'"
      ]
     },
     "execution_count": 63,
     "metadata": {},
     "output_type": "execute_result"
    }
   ],
   "source": [
    "signiture('love')"
   ]
  },
  {
   "cell_type": "code",
   "execution_count": 64,
   "id": "5716722a",
   "metadata": {},
   "outputs": [
    {
     "data": {
      "text/plain": [
       "'ail'"
      ]
     },
     "execution_count": 64,
     "metadata": {},
     "output_type": "execute_result"
    }
   ],
   "source": [
    "signiture('ali')"
   ]
  },
  {
   "cell_type": "code",
   "execution_count": 65,
   "id": "9cb48ef8",
   "metadata": {},
   "outputs": [
    {
     "data": {
      "text/plain": [
       "True"
      ]
     },
     "execution_count": 65,
     "metadata": {},
     "output_type": "execute_result"
    }
   ],
   "source": [
    "signiture('ali') == signiture('ila')"
   ]
  },
  {
   "cell_type": "code",
   "execution_count": 66,
   "id": "a83c3771",
   "metadata": {},
   "outputs": [
    {
     "data": {
      "text/plain": [
       "False"
      ]
     },
     "execution_count": 66,
     "metadata": {},
     "output_type": "execute_result"
    }
   ],
   "source": [
    "signiture('ali') == signiture('reza')"
   ]
  },
  {
   "cell_type": "code",
   "execution_count": 67,
   "id": "68b725eb",
   "metadata": {},
   "outputs": [],
   "source": [
    "def sum(num1, num2):\n",
    "    return num1+num2"
   ]
  },
  {
   "cell_type": "code",
   "execution_count": 68,
   "id": "9a49a85b",
   "metadata": {},
   "outputs": [
    {
     "data": {
      "text/plain": [
       "27"
      ]
     },
     "execution_count": 68,
     "metadata": {},
     "output_type": "execute_result"
    }
   ],
   "source": [
    "sum(12, 15)"
   ]
  },
  {
   "cell_type": "code",
   "execution_count": 72,
   "id": "6967875e",
   "metadata": {},
   "outputs": [],
   "source": [
    "def mult(name, family, age, code_meli):\n",
    "    return name, family, age, code_meli"
   ]
  },
  {
   "cell_type": "code",
   "execution_count": 74,
   "id": "eca5a7b2",
   "metadata": {},
   "outputs": [
    {
     "data": {
      "text/plain": [
       "('ali', 'morady', 24, '456897')"
      ]
     },
     "execution_count": 74,
     "metadata": {},
     "output_type": "execute_result"
    }
   ],
   "source": [
    "mult(\"ali\", \"morady\", 24, \"456897\")"
   ]
  },
  {
   "cell_type": "code",
   "execution_count": 75,
   "id": "13c248d3",
   "metadata": {},
   "outputs": [
    {
     "name": "stdout",
     "output_type": "stream",
     "text": [
      "{'iran': 'tehran', 'spain': 'madrid', 'germany': 'berlin'}\n"
     ]
    }
   ],
   "source": [
    "dictionary = {'iran':'tehran', 'spain':'madrid', 'germany':'berlin'}\n",
    "print(dictionary)"
   ]
  },
  {
   "cell_type": "code",
   "execution_count": 76,
   "id": "af3ad231",
   "metadata": {},
   "outputs": [
    {
     "name": "stdout",
     "output_type": "stream",
     "text": [
      "3\n"
     ]
    }
   ],
   "source": [
    "print(len(dictionary))"
   ]
  },
  {
   "cell_type": "code",
   "execution_count": 104,
   "id": "805ba34a",
   "metadata": {},
   "outputs": [
    {
     "name": "stdout",
     "output_type": "stream",
     "text": [
      "0 >>>>>>>>> 1\n",
      "0 >>>>>>>>> 2\n",
      "0 >>>>>>>>> 3\n",
      "0 >>>>>>>>> 4\n",
      "0 >>>>>>>>> 5\n",
      "3 >>>>>>>>> 6\n",
      "0 >>>>>>>>> 7\n",
      "0 >>>>>>>>> 8\n",
      "0 >>>>>>>>> 9\n",
      "0 >>>>>>>> 10\n",
      "0 >>>>>>>> 11\n"
     ]
    }
   ],
   "source": [
    "count1 = 0\n",
    "count2 = 0\n",
    "count3 = 0\n",
    "count4 = 0\n",
    "count5 = 0\n",
    "count6 = 0\n",
    "count7 = 0\n",
    "count8 = 0\n",
    "count9 = 0\n",
    "count10 = 0\n",
    "count11 = 0\n",
    "\n",
    "\n",
    "\n",
    "for i in dictionary:\n",
    "    length =len(dictionary[i])\n",
    "    #rint(length)\n",
    "    if length == 6:\n",
    "        count6 += 1\n",
    "       \n",
    "print(count1, \">>>>>>>>> 1\")\n",
    "print(count2,\">>>>>>>>> 2\")\n",
    "print(count3,\">>>>>>>>> 3\")\n",
    "print(count4,\">>>>>>>>> 4\")\n",
    "print(count5,\">>>>>>>>> 5\")\n",
    "print(count6, \">>>>>>>>> 6\")\n",
    "print(count7,\">>>>>>>>> 7\")\n",
    "print(count8,\">>>>>>>>> 8\")\n",
    "print(count9,\">>>>>>>>> 9\")\n",
    "print(count10, \">>>>>>>> 10\")\n",
    "print(count11, \">>>>>>>> 11\")\n",
    "\n"
   ]
  },
  {
   "cell_type": "code",
   "execution_count": 105,
   "id": "3d6c2f4b",
   "metadata": {},
   "outputs": [
    {
     "name": "stdout",
     "output_type": "stream",
     "text": [
      "{'iran': 'tehran', 'spain': 'madrid', 'germany': 'berlinn', 'italy': 'rom', 'arak': 'baghdad', 'emirate': 'dubi', 'gatar': 'abuzabi'}\n"
     ]
    }
   ],
   "source": [
    "dictionary = {'iran':'tehran', 'spain':'madrid', 'germany':'berlinn', 'italy':'rom','arak':'baghdad', 'emirate':'dubi', 'gatar':'abuzabi'}\n",
    "print(dictionary)"
   ]
  },
  {
   "cell_type": "code",
   "execution_count": 107,
   "id": "cde5f15a",
   "metadata": {},
   "outputs": [
    {
     "name": "stdout",
     "output_type": "stream",
     "text": [
      "0 >>>>>>>>> 1\n",
      "0 >>>>>>>>> 2\n",
      "1 >>>>>>>>> 3\n",
      "1 >>>>>>>>> 4\n",
      "0 >>>>>>>>> 5\n",
      "2 >>>>>>>>> 6\n",
      "3 >>>>>>>>> 7\n",
      "0 >>>>>>>>> 8\n",
      "0 >>>>>>>>> 9\n",
      "0 >>>>>>>> 10\n",
      "0 >>>>>>>> 11\n"
     ]
    }
   ],
   "source": [
    "count1 = 0\n",
    "count2 = 0\n",
    "count3 = 0\n",
    "count4 = 0\n",
    "count5 = 0\n",
    "count6 = 0\n",
    "count7 = 0\n",
    "count8 = 0\n",
    "count9 = 0\n",
    "count10 = 0\n",
    "count11 = 0\n",
    "\n",
    "\n",
    "\n",
    "for i in dictionary:\n",
    "    length =len(dictionary[i])\n",
    "    \n",
    "    if length == 1:\n",
    "        count1 += 1\n",
    "    elif length == 2:\n",
    "        count2 += 1\n",
    "    elif length == 3:\n",
    "        count3 += 1\n",
    "    elif length == 4:\n",
    "        count4 += 1\n",
    "    elif length == 5:\n",
    "        count5 += 1\n",
    "    elif length == 6:\n",
    "        count6 += 1\n",
    "    elif length == 7:\n",
    "        count7 += 1\n",
    "    elif length == 8:\n",
    "        count8 += 1\n",
    "    elif length == 9:\n",
    "        count9 += 1\n",
    "    elif length == 10:\n",
    "        count10 += 1\n",
    "    else:\n",
    "        count11 += 1\n",
    "       \n",
    "print(count1, \">>>>>>>>> 1\")\n",
    "print(count2,\">>>>>>>>> 2\")\n",
    "print(count3,\">>>>>>>>> 3\")\n",
    "print(count4,\">>>>>>>>> 4\")\n",
    "print(count5,\">>>>>>>>> 5\")\n",
    "print(count6, \">>>>>>>>> 6\")\n",
    "print(count7,\">>>>>>>>> 7\")\n",
    "print(count8,\">>>>>>>>> 8\")\n",
    "print(count9,\">>>>>>>>> 9\")\n",
    "print(count10, \">>>>>>>> 10\")\n",
    "print(count11, \">>>>>>>> 11\")"
   ]
  },
  {
   "cell_type": "code",
   "execution_count": null,
   "id": "6beb8f67",
   "metadata": {},
   "outputs": [],
   "source": []
  }
 ],
 "metadata": {
  "kernelspec": {
   "display_name": "Python 3 (ipykernel)",
   "language": "python",
   "name": "python3"
  },
  "language_info": {
   "codemirror_mode": {
    "name": "ipython",
    "version": 3
   },
   "file_extension": ".py",
   "mimetype": "text/x-python",
   "name": "python",
   "nbconvert_exporter": "python",
   "pygments_lexer": "ipython3",
   "version": "3.9.7"
  }
 },
 "nbformat": 4,
 "nbformat_minor": 5
}
